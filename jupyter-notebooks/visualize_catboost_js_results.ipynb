{
 "cells": [
  {
   "cell_type": "markdown",
   "id": "9b2df9b8",
   "metadata": {},
   "source": [
    "# Graphs output of javascript implementation of saved catboost model"
   ]
  },
  {
   "cell_type": "code",
   "execution_count": 9,
   "id": "b9f3fed3",
   "metadata": {},
   "outputs": [],
   "source": [
    "from matplotlib import pyplot as plt\n",
    "import json\n",
    "import random"
   ]
  },
  {
   "cell_type": "code",
   "execution_count": 3,
   "id": "e704b317",
   "metadata": {},
   "outputs": [],
   "source": [
    "with open( \"../catboost_js_output.json\", \"rt\" ) as fin:\n",
    "    data = json.loads(fin.read())"
   ]
  },
  {
   "cell_type": "code",
   "execution_count": 11,
   "id": "77c4bb21",
   "metadata": {},
   "outputs": [
    {
     "data": {
      "text/plain": [
       "[<matplotlib.lines.Line2D at 0x7fd144764be0>]"
      ]
     },
     "execution_count": 11,
     "metadata": {},
     "output_type": "execute_result"
    },
    {
     "data": {
      "image/png": "[encoded data removed]",
      "text/plain": [
       "<Figure size 432x288 with 1 Axes>"
      ]
     },
     "metadata": {
      "needs_background": "light"
     },
     "output_type": "display_data"
    }
   ],
   "source": [
    "confidence = [I['output']['confidence'] for I in data]\n",
    "\n",
    "#shuffle labled confidence a bit so the dots spread out a bit so they are easier to see.\n",
    "confidence = [c + (random.random()-.5)*.5 for c in confidence]\n",
    "\n",
    "catboost = [I['misc']['catboost_js_output'] for I in data]\n",
    "\n",
    "plt.plot( confidence, catboost, '.' )"
   ]
  },
  {
   "cell_type": "code",
   "execution_count": 12,
   "id": "2d36334c",
   "metadata": {},
   "outputs": [
    {
     "data": {
      "text/plain": [
       "{'input': {'f1:sourceCorpusPermutationsFrequencyRatio': 0.01584786053882726,\n",
       "  'f2:targetCorpusPermutationsFrequencyRatio': 0.015082956259426848,\n",
       "  'f3:sourceAlignmentMemoryFrequencyRatio': 0,\n",
       "  'f4:targetAlignmentMemoryFrequencyRatio': 0,\n",
       "  'f5:frequencyRatioCorpusFiltered': 1,\n",
       "  'f6:frequencyRatioAlignmentMemoryFiltered': 0,\n",
       "  'f7:sourceCorpusLemmaPermutationsFrequencyRatio': 0,\n",
       "  'f8:targetCorpusLemmaPermutationsFrequencyRatio': 0,\n",
       "  'f9:sourceAlignmentMemoryLemmaFrequencyRatio': 0,\n",
       "  'f10:targetAlignmentMemoryLemmaFrequencyRatio': 0,\n",
       "  'f11:lemmaFrequencyRatioCorpusFiltered': 0,\n",
       "  'f12:lemmaFrequencyRatioAlignmentMemoryFiltered': 0,\n",
       "  'f13:ngramRelativeTokenDistance': 1,\n",
       "  'f14:alignmentRelativeOccurrence': 1,\n",
       "  'f15:alignmentPosition': 0.9732620320855615,\n",
       "  'f16:phrasePlausibility': 0.9156220435193946,\n",
       "  'f17:lemmaPhrasePlausibility': 0,\n",
       "  'f18:ngramLength': 0.8849222602828328,\n",
       "  'f19:characterLength': 0.9741578955993846,\n",
       "  'f20:alignmentOccurrences': 1,\n",
       "  'f21:lemmaAlignmentOccurrences': 0,\n",
       "  'f22:uniqueness': 0.8383637265786321,\n",
       "  'f23:lemmaUniqueness': 0},\n",
       " 'output': {'confidence': 0},\n",
       " 'misc': {'source': 'n:ἐν:χριστῷ',\n",
       "  'target': 'n:in:christ',\n",
       "  'f:sLang': 'ugnt',\n",
       "  'f:tLang': 'en',\n",
       "  'catboost_js_output': 0.04489957771405179}}"
      ]
     },
     "execution_count": 12,
     "metadata": {},
     "output_type": "execute_result"
    }
   ],
   "source": [
    "data[0]"
   ]
  },
  {
   "cell_type": "markdown",
   "id": "db97d19b",
   "metadata": {},
   "source": [
    "# Display some of the \"false positives\""
   ]
  },
  {
   "cell_type": "code",
   "execution_count": 17,
   "id": "3c2e977c",
   "metadata": {},
   "outputs": [],
   "source": [
    "false_positives = [I for I in data if I['misc']['catboost_js_output'] > .2 and I['misc']['catboost_js_output'] < .5]\n",
    "false_positives.sort( key=lambda I: I['misc']['catboost_js_output'], reverse=True )"
   ]
  },
  {
   "cell_type": "code",
   "execution_count": 18,
   "id": "d5e6335b",
   "metadata": {},
   "outputs": [
    {
     "name": "stdout",
     "output_type": "stream",
     "text": [
      " 0.4959658598777006: n:οὖν => n:therefore\n",
      " 0.4647047611749921: n:μετὰ => n:with\n",
      " 0.46374233269174414: n:τοῦ => n:the\n",
      " 0.4562878013188087: n:καὶ => n:and\n",
      " 0.4477047024608127: n:καὶ => n:and\n",
      " 0.44514353083990366: n:καὶ => n:and\n",
      " 0.4438108682274388: n:αὐτοῦ => n:his\n",
      " 0.4382204221050042: n:καὶ => n:and\n",
      " 0.4359698956842966: n:καὶ => n:and\n",
      " 0.4359698956842966: n:καὶ => n:and\n",
      " 0.4354307886310399: n:καὶ => n:and\n",
      " 0.4319816395972753: n:ἐν => n:in\n",
      " 0.4311963722393682: n:καὶ => n:and\n",
      " 0.4290767869349298: n:αὐτοῦ => n:his\n",
      " 0.4259028567969178: n:τὰ => n:the\n",
      " 0.4216710912482517: n:καὶ => n:also\n",
      " 0.42116682901811847: n:ὡς => n:as\n",
      " 0.41683147687037103: n:καὶ => n:and\n",
      " 0.4134165965630539: n:τῆς:γῆς => n:earth\n",
      " 0.41176110726549586: n:καὶ => n:and\n",
      " 0.40886352077604055: n:τοῦ:εὐαγγελίου => n:the:gospel\n",
      " 0.40771987422881883: n:διὰ => n:through\n",
      " 0.4040272525603273: n:ἐν => n:in\n",
      " 0.4030309688421403: n:ὑμῶν => n:your\n",
      " 0.40054229229088695: n:πάντων => n:all\n",
      " 0.3990941149307531: n:καὶ => n:and\n",
      " 0.3975136120648482: n:πατρὸς => n:father\n",
      " 0.39296772848938155: n:καὶ => n:and\n",
      " 0.3925792456547316: n:ἐν => n:in\n",
      " 0.3925642010205208: n:ἐν => n:in\n",
      " 0.3918793158459907: n:αὐτοῦ => n:his\n",
      " 0.39185754858656896: n:ἐν => n:in\n",
      " 0.3910241704553769: n:διὰ => n:through\n",
      " 0.38953867641622164: n:ἐν => n:in\n",
      " 0.38948847413759907: n:καὶ => n:and\n",
      " 0.38798037132794483: n:ἐν => n:in\n",
      " 0.38229923592231996: n:διὰ => n:through\n",
      " 0.380463564985754: n:ἐν => n:in\n",
      " 0.3715126385409605: n:ἰησοῦ => n:jesus\n",
      " 0.36692654839558336: n:διὰ => n:through\n",
      " 0.3605389301205458: n:μὴ => n:not\n",
      " 0.36036880252346: n:αὐτοῦ => n:his\n",
      " 0.3590441179111075: n:ἐν => n:in\n",
      " 0.35359321807535454: n:ἐν => n:in\n",
      " 0.3532841076589655: n:ἰησοῦ => n:jesus\n",
      " 0.3519418388635784: n:χριστῷ => n:christ\n",
      " 0.3492758686730065: n:καὶ => n:and\n",
      " 0.34746114120265265: n:μὴ => n:not\n",
      " 0.34571001940177537: n:τῆς => n:the\n",
      " 0.3453295780288034: n:καὶ => n:and\n",
      " 0.3452220331654283: n:καὶ => n:and\n",
      " 0.3431023574651807: n:ὑμῶν => n:your\n",
      " 0.34126880118447517: n:καὶ => n:also\n",
      " 0.3382204327652125: n:οὖν => n:therefore\n",
      " 0.33472097667220313: n:ἐν => n:in\n",
      " 0.33433448980261965: n:καὶ => n:and\n",
      " 0.33120628014924103: n:ἡμῶν => n:our\n",
      " 0.3249776315350223: n:ἰησοῦ => n:jesus\n",
      " 0.3247485285849854: n:ὑμῶν => n:your\n",
      " 0.3218919875856626: n:ὡς => n:as\n",
      " 0.3217582962570316: n:ἰησοῦ => n:jesus\n",
      " 0.31451530786972326: n:ἰησοῦ => n:jesus\n",
      " 0.30725095030944527: n:ὑμῶν => n:your\n",
      " 0.3046951101811162: n:τὸν => n:the\n",
      " 0.3001524523888188: n:καὶ => n:and\n",
      " 0.2951375538734045: n:ἡμῶν => n:our\n",
      " 0.29107325993059596: n:τὴν => n:the\n",
      " 0.289272576200712: n:ἐν => n:to\n",
      " 0.2888101365552945: n:ἡμῶν => n:our\n",
      " 0.28814526006299257: n:τὰ:τέκνα => n:children\n",
      " 0.2846526279512287: n:καὶ => n:and\n",
      " 0.284327594743358: n:ποτε => n:once\n",
      " 0.2840484596691509: n:τῷ:χριστῷ => n:to:christ\n",
      " 0.2819011144155006: n:καὶ => n:and\n",
      " 0.28178906115682517: n:ἰησοῦ => n:jesus\n",
      " 0.28135657773598377: n:χριστῷ => n:christ\n",
      " 0.27528706609561215: n:χριστῷ => n:christ\n",
      " 0.27466727191400997: n:τοῖς => n:the\n",
      " 0.2697558228236701: n:καὶ => n:and\n",
      " 0.2693806343606845: n:ἰησοῦ => n:jesus\n",
      " 0.2669648283417812: n:αἷς => n:which\n",
      " 0.26681256906558054: n:καὶ => n:and\n",
      " 0.26537049841386456: n:καὶ => n:and\n",
      " 0.26507623623096105: n:καὶ => n:and\n",
      " 0.26434193273248935: n:πάντων => n:all:and\n",
      " 0.2619364751185147: n:χριστῷ => n:christ\n",
      " 0.2604884430025227: n:ὡς => n:as\n",
      " 0.2601641151337902: n:ἰησοῦ => n:jesus\n",
      " 0.2581653012231902: n:χάρις => n:grace\n",
      " 0.2575804686625048: n:ὑπακούετε => n:obey\n",
      " 0.25524755792547316: n:ὡς => n:as\n",
      " 0.25450389632836784: n:καὶ => n:also\n",
      " 0.2544179017103049: n:ἐστιν => n:is\n",
      " 0.2536138660544556: n:ἐν => n:in\n",
      " 0.25294494951532553: n:τὴν => n:the\n",
      " 0.24926505401354526: n:ἐστιν => n:is\n",
      " 0.24847263993316093: n:ἐν => n:with\n",
      " 0.24827997942207392: n:τῆς:εἰρήνης => n:of:peace\n",
      " 0.24634094079578592: n:εἶναι => n:fellow\n",
      " 0.24600479771907832: n:οἷς => n:which\n",
      " 0.24472944412041234: n:τῆς => n:the\n",
      " 0.24397335349205826: n:εἶναι => n:fellow\n",
      " 0.24287205093889286: n:χριστῷ => n:christ\n",
      " 0.24234165988317619: n:καὶ => n:and\n",
      " 0.2417740038435902: n:ἡμᾶς => n:us\n",
      " 0.24074028620832305: n:τὸ => n:the\n",
      " 0.23745065777348312: n:ἐν => n:in\n",
      " 0.23742929733167945: n:καὶ => n:and\n",
      " 0.2369450572862681: n:εὐαγγελίου => n:the:gospel\n",
      " 0.23688483385869746: n:ἀπὸ => n:god\n",
      " 0.2367146855393316: n:τὰ:τέκνα => n:children\n",
      " 0.23666098771500096: n:ἡμᾶς => n:us\n",
      " 0.23616770704003948: n:ἔθνη => n:fellow\n",
      " 0.23586949879825325: n:τοῦ:εὐαγγελίου => n:fellow\n",
      " 0.23572600021627949: n:ἡμᾶς => n:us\n",
      " 0.23519303120004156: n:εὐαγγελίου => n:fellow\n",
      " 0.2347366184637147: n:ἐν => n:in\n",
      " 0.23346143890194027: n:ἐπαγγελίας => n:fellow\n",
      " 0.23346055166207802: n:τοῦ:εὐαγγελίου => n:fellow\n",
      " 0.23240580672785147: n:ἐν => n:in\n",
      " 0.23090688375635135: n:καὶ => n:and\n",
      " 0.23046551951592448: n:τοῦ:εὐαγγελίου => n:fellow\n",
      " 0.2302814486326669: n:ἔθνη => n:fellow\n",
      " 0.23000135365290555: n:εὐαγγελίου => n:fellow\n",
      " 0.22975029341025616: n:τοῦ:εὐαγγελίου => n:gospel\n",
      " 0.22802766187625778: n:ἔθνη => n:fellow\n",
      " 0.2277934305426708: n:τοῖς => n:the\n",
      " 0.2253222443416883: n:εὐαγγελίου => n:fellow\n",
      " 0.22515338874776034: n:δόξης => n:glory\n",
      " 0.2250226832988536: n:καὶ => n:the\n",
      " 0.22455953749678872: n:ἐν => n:in\n",
      " 0.2234736100686459: n:τοῦ => n:the\n",
      " 0.22298292573604495: n:τοῦ => n:the\n",
      " 0.22234693293887914: n:τῷ => n:the\n",
      " 0.22215772028049785: n:ἐν => n:in\n",
      " 0.22126613571773374: n:ἐπαγγελίας => n:fellow\n",
      " 0.2207714045909772: n:ἐπαγγελίας => n:fellow\n",
      " 0.21923396389336575: n:τὰ:ἔθνη => n:fellow\n",
      " 0.2161225594341193: n:τὰ:ἔθνη => n:fellow\n",
      " 0.21535637455010231: n:τῆς:ἐπαγγελίας => n:fellow\n",
      " 0.21473980822479563: n:μετὰ => n:with\n",
      " 0.2141640243432797: n:ἐν => n:in\n",
      " 0.2134596984895312: n:τῆς:ἐπαγγελίας => n:fellow\n",
      " 0.2133455035211923: n:τῆς:ἐπαγγελίας => n:fellow\n",
      " 0.21332830389266652: n:καὶ => n:and\n",
      " 0.21292632959967744: n:εἶναι => n:fellow\n",
      " 0.21210976855203817: n:τοῦτο:γάρ => n:for:this\n",
      " 0.21209375588543: n:ἐν => n:in\n",
      " 0.21190614887423448: n:τὰ:ἔθνη => n:fellow\n",
      " 0.21132751917859527: n:ὑμῶν => n:your\n",
      " 0.21005600650277909: n:καὶ => n:and\n",
      " 0.20905917400891433: n:ἡμᾶς => n:us\n",
      " 0.20888819495563696: n:τῷ => n:the\n",
      " 0.20883753958077325: n:ἐν => n:in\n",
      " 0.20867177849412855: n:τὴν => n:the\n",
      " 0.20669234505499032: n:μυστήριον => n:mystery\n",
      " 0.20542103318466334: n:εἰς => n:of:the\n",
      " 0.20529370889781354: n:ἐν => n:in\n",
      " 0.20494914552714302: n:τὰ => n:the\n",
      " 0.20494914552714302: n:τὰ => n:the\n",
      " 0.20406729539573595: n:τὰ => n:be\n",
      " 0.2036477198597151: n:ὑπακούετε:τοῖς => n:obey:your\n",
      " 0.2012612441201885: n:ἐν => n:in\n",
      " 0.20045902410590186: n:τέκνα => n:children\n"
     ]
    }
   ],
   "source": [
    "for I in false_positives:\n",
    "    print( f\" {I['misc']['catboost_js_output']}: {I['misc']['source']} => {I['misc']['target']}\" )\n"
   ]
  }
 ],
 "metadata": {
  "kernelspec": {
   "display_name": "Python 3",
   "language": "python",
   "name": "python3"
  },
  "language_info": {
   "codemirror_mode": {
    "name": "ipython",
    "version": 3
   },
   "file_extension": ".py",
   "mimetype": "text/x-python",
   "name": "python",
   "nbconvert_exporter": "python",
   "pygments_lexer": "ipython3",
   "version": "3.8.10"
  }
 },
 "nbformat": 4,
 "nbformat_minor": 5
}
